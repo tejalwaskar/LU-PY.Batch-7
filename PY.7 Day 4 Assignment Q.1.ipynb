{
 "cells": [
  {
   "cell_type": "markdown",
   "metadata": {},
   "source": [
    "# Day 4 Assignment"
   ]
  },
  {
   "cell_type": "markdown",
   "metadata": {},
   "source": [
    "Q.1) print the first Armstrong Number in the range 1042000 to 702648265 and exit the loop as soon you encounter the first Armstrong Number."
   ]
  },
  {
   "cell_type": "markdown",
   "metadata": {},
   "source": [
    "USE while loop"
   ]
  },
  {
   "cell_type": "code",
   "execution_count": 2,
   "metadata": {},
   "outputs": [
    {
     "name": "stdout",
     "output_type": "stream",
     "text": [
      "The first Armstrong number is : 1741725\n"
     ]
    }
   ],
   "source": [
    "n = 1042000\n",
    "while n <= 702648265:\n",
    "    order = len(str(n))\n",
    "    s = 0\n",
    "    num = n\n",
    "    while num > 0:\n",
    "        digit = num% 10\n",
    "        s += digit ** order\n",
    "        num //= 10\n",
    "    if n == s:\n",
    "        print(\"The first Armstrong number is :\",n)\n",
    "        break\n",
    "    n += 1"
   ]
  },
  {
   "cell_type": "code",
   "execution_count": null,
   "metadata": {},
   "outputs": [],
   "source": []
  }
 ],
 "metadata": {
  "kernelspec": {
   "display_name": "Python 3",
   "language": "python",
   "name": "python3"
  },
  "language_info": {
   "codemirror_mode": {
    "name": "ipython",
    "version": 3
   },
   "file_extension": ".py",
   "mimetype": "text/x-python",
   "name": "python",
   "nbconvert_exporter": "python",
   "pygments_lexer": "ipython3",
   "version": "3.7.6"
  }
 },
 "nbformat": 4,
 "nbformat_minor": 4
}
