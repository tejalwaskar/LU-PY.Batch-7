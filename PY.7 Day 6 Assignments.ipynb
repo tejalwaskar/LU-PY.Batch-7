{
 "cells": [
  {
   "cell_type": "markdown",
   "metadata": {},
   "source": [
    "# Day 6 Assignment No: 1"
   ]
  },
  {
   "cell_type": "markdown",
   "metadata": {},
   "source": [
    "Q.1) For this challenge, create a bank account class that has two attributes\n",
    "ownerName\n",
    "Balance\n",
    "And two methods:\n",
    "deposite\n",
    "withdraw\n",
    "As an added requirement,withdraws may not exceed the avaliable balance.\n",
    "instantiate your class, make several deposites and withdraws,and test to make sure the account cant be overdrawn."
   ]
  },
  {
   "cell_type": "code",
   "execution_count": 4,
   "metadata": {},
   "outputs": [
    {
     "name": "stdout",
     "output_type": "stream",
     "text": [
      "\n",
      "....Welcome To Bank Account Program....\n",
      "\n",
      "Account Holder Name is :  TEJAL Waskar\n",
      "\n",
      "Initial Account balance is :  0\n",
      "\n",
      "Enter amount to be Deposited : 2000\n",
      "\n",
      "Amount Deposited is :  2000.0\n",
      "\n",
      "Enter the amount to be withdrawn : 500\n",
      "\n",
      "You have withdrew :  500.0\n",
      "\n",
      "Net Avaliable Balance is :  1500.0\n"
     ]
    }
   ],
   "source": [
    "class BankAccount():\n",
    "    def __init__(self):\n",
    "        \n",
    "        self.ownerName = \"TEJAL Waskar\"\n",
    "        self.Balance = 0\n",
    "    def deposit(self):\n",
    "        \n",
    "        Amount = float(input(\"\\nEnter amount to be Deposited : \"))\n",
    "        self.Balance += Amount\n",
    "        print(\"\\nAmount Deposited is : \",Amount)\n",
    "    def withdraw(self):\n",
    "        \n",
    "        Amount = float(input(\"\\nEnter the amount to be withdrawn : \"))\n",
    "        if self.Balance >= Amount:\n",
    "            self.Balance -= Amount\n",
    "            print(\"\\nYou have withdrew : \",Amount)\n",
    "        else:\n",
    "            print(\"\\nInsufficient balance in the account....\")\n",
    "            \n",
    "print(\"\\n....Welcome To Bank Account Program....\")\n",
    "\n",
    "BA = BankAccount()\n",
    "\n",
    "print(\"\\nAccount Holder Name is : \",BA.ownerName)\n",
    "print(\"\\nInitial Account balance is : \",BA.Balance)\n",
    "\n",
    "BA.deposit();\n",
    "\n",
    "BA.withdraw();\n",
    "\n",
    "print(\"\\nNet Avaliable Balance is : \",BA.Balance)\n"
   ]
  },
  {
   "cell_type": "markdown",
   "metadata": {},
   "source": [
    "# Day 6 Assignment No: 2"
   ]
  },
  {
   "cell_type": "markdown",
   "metadata": {},
   "source": [
    "Q.1) For this challenge,create a cone class that has two attributes:\n",
    "     R = Radius\n",
    "     h = Height\n",
    "     And two methods:\n",
    "     Volume = 3.14*r2,side :3.14*r*(r2+h2)^1/2\n",
    "     Make only one class with functions,as in where required import Math."
   ]
  },
  {
   "cell_type": "code",
   "execution_count": 8,
   "metadata": {},
   "outputs": [],
   "source": [
    "import math\n",
    "\n",
    "pi = math.pi\n",
    "class cone:\n",
    "    \n",
    "    def __init__(self,radius,height):\n",
    "        self.radius = radius\n",
    "        self.height = height\n",
    "        \n",
    "    def volume(self):\n",
    "        vol = math.pi * (self.radius ** 2) * (self.height/3)\n",
    "        print(\"volume of this cone is : \",vol)\n",
    "        \n",
    "    def surfacearea(self):\n",
    "        area = math.pi * self.radius * (self.radius + (math.sqrt((self.radius ** 2) + (self.height ** 2))))\n",
    "        print(\"surface area of this cone is : \",area)\n",
    "    "
   ]
  },
  {
   "cell_type": "code",
   "execution_count": 9,
   "metadata": {},
   "outputs": [],
   "source": [
    "con = cone(5,6)"
   ]
  },
  {
   "cell_type": "code",
   "execution_count": 11,
   "metadata": {},
   "outputs": [
    {
     "name": "stdout",
     "output_type": "stream",
     "text": [
      "volume of this cone is :  157.07963267948966\n"
     ]
    }
   ],
   "source": [
    "con.volume()"
   ]
  },
  {
   "cell_type": "code",
   "execution_count": 12,
   "metadata": {},
   "outputs": [
    {
     "name": "stdout",
     "output_type": "stream",
     "text": [
      "surface area of this cone is :  201.22293136239685\n"
     ]
    }
   ],
   "source": [
    "con.surfacearea()"
   ]
  },
  {
   "cell_type": "code",
   "execution_count": null,
   "metadata": {},
   "outputs": [],
   "source": []
  }
 ],
 "metadata": {
  "kernelspec": {
   "display_name": "Python 3",
   "language": "python",
   "name": "python3"
  },
  "language_info": {
   "codemirror_mode": {
    "name": "ipython",
    "version": 3
   },
   "file_extension": ".py",
   "mimetype": "text/x-python",
   "name": "python",
   "nbconvert_exporter": "python",
   "pygments_lexer": "ipython3",
   "version": "3.7.6"
  }
 },
 "nbformat": 4,
 "nbformat_minor": 4
}
